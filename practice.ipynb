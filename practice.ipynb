{
 "cells": [
  {
   "cell_type": "markdown",
   "id": "d51f8b36",
   "metadata": {},
   "source": [
    "### both 1,2,3"
   ]
  },
  {
   "cell_type": "code",
   "execution_count": 2,
   "id": "cd75f884",
   "metadata": {},
   "outputs": [
    {
     "name": "stdout",
     "output_type": "stream",
     "text": [
      "the number is negetive\n"
     ]
    }
   ],
   "source": [
    "a=int(input(\"enter the number\"))\n",
    "if a < 0:\n",
    "    print(\"the number is negetive\")\n",
    "elif a == 0 : \n",
    "    print(\"the number is zero\")\n",
    "else : \n",
    "    print(\"the number is positive\")\n"
   ]
  },
  {
   "cell_type": "code",
   "execution_count": 6,
   "id": "34587db5",
   "metadata": {},
   "outputs": [
    {
     "name": "stdout",
     "output_type": "stream",
     "text": [
      "the numver is postive odd\n"
     ]
    }
   ],
   "source": [
    "a = int (input(\"enter the number\"))\n",
    "if a > 0 :\n",
    "    if a%2 == 0 : \n",
    "        print(\"the number is postive even\")\n",
    "    else :\n",
    "        print(\"the numver is postive odd\")\n",
    "elif a == 0 : \n",
    "    print(\"the number is 0\")\n",
    "else: \n",
    "    if a % 2 == 0 : \n",
    "        print(\"the number is negetive even\")\n",
    "    else : \n",
    "        print(\"the number is negetive odd\")\n"
   ]
  },
  {
   "cell_type": "code",
   "execution_count": 8,
   "id": "ba7b065a",
   "metadata": {},
   "outputs": [
    {
     "name": "stdout",
     "output_type": "stream",
     "text": [
      "1\n",
      "2\n",
      "3\n",
      "4\n",
      "5\n",
      "6\n",
      "7\n",
      "8\n",
      "9\n",
      "10\n"
     ]
    }
   ],
   "source": [
    "for i in  range (1,11):\n",
    "    print(i)"
   ]
  },
  {
   "cell_type": "code",
   "execution_count": 10,
   "id": "c6785d72",
   "metadata": {},
   "outputs": [
    {
     "name": "stdout",
     "output_type": "stream",
     "text": [
      "1\n",
      "2\n",
      "3\n",
      "4\n",
      "5\n",
      "6\n",
      "7\n",
      "8\n",
      "9\n",
      "10\n"
     ]
    }
   ],
   "source": [
    "a = 0 \n",
    "while a <= 9 :\n",
    "    a+=1\n",
    "    print(a)\n",
    "\n"
   ]
  },
  {
   "cell_type": "code",
   "execution_count": 18,
   "id": "b439be3a",
   "metadata": {},
   "outputs": [
    {
     "name": "stdout",
     "output_type": "stream",
     "text": [
      "* * * * * \n",
      "* * * * * \n",
      "* * * * * \n",
      "* * * * * \n"
     ]
    }
   ],
   "source": [
    "for i in range(1,5):\n",
    "   \n",
    "    for j in range(0,5):\n",
    "        print(\"*\", end=\" \")\n",
    "    print()"
   ]
  },
  {
   "cell_type": "code",
   "execution_count": 19,
   "id": "c46e7e3f",
   "metadata": {},
   "outputs": [
    {
     "name": "stdout",
     "output_type": "stream",
     "text": [
      "370\n"
     ]
    }
   ],
   "source": [
    "total  = 0 \n",
    "while True : \n",
    "    a = int(input(\"enter the value\"))\n",
    "    total += a \n",
    "    if a == 0 : \n",
    "        break\n",
    "print(total)"
   ]
  },
  {
   "cell_type": "code",
   "execution_count": null,
   "id": "5871dcf2",
   "metadata": {},
   "outputs": [
    {
     "name": "stdout",
     "output_type": "stream",
     "text": [
      "1\n",
      "2\n",
      "3\n",
      "4\n",
      "6\n",
      "7\n",
      "8\n",
      "9\n",
      "10\n"
     ]
    }
   ],
   "source": [
    "for i in range (1,11):\n",
    "    if i == 5 :\n",
    "        continue\n",
    "    print(i)\n",
    "    "
   ]
  },
  {
   "cell_type": "code",
   "execution_count": 21,
   "id": "54ff5444",
   "metadata": {},
   "outputs": [],
   "source": [
    "def empty_fun ( ):\n",
    "    pass\n",
    "empty_fun()"
   ]
  },
  {
   "cell_type": "code",
   "execution_count": 22,
   "id": "71a49b1b",
   "metadata": {},
   "outputs": [
    {
     "name": "stdout",
     "output_type": "stream",
     "text": [
      "0\n",
      "2\n",
      "4\n",
      "6\n",
      "8\n",
      "10\n"
     ]
    }
   ],
   "source": [
    "a = int (input(\"enter a number\"))\n",
    "for i in  range (a+1):\n",
    "    if i %2  == 0: \n",
    "        print(i)"
   ]
  },
  {
   "cell_type": "code",
   "execution_count": 24,
   "id": "6ca50795",
   "metadata": {},
   "outputs": [
    {
     "name": "stdout",
     "output_type": "stream",
     "text": [
      "the factorial of 6 is 720\n"
     ]
    }
   ],
   "source": [
    "a = int(input(\"enter the number that can calculate the factorial\"))\n",
    "factorial  = 1 \n",
    "i=1\n",
    "while i<=a:\n",
    "    factorial*=i\n",
    "    i+=1\n",
    "print(f\"the factorial of {a} is {factorial}\")\n"
   ]
  },
  {
   "cell_type": "code",
   "execution_count": 25,
   "id": "8f22818d",
   "metadata": {},
   "outputs": [
    {
     "name": "stdout",
     "output_type": "stream",
     "text": [
      "the sum of number is 55 \n"
     ]
    }
   ],
   "source": [
    "a = int ( input(\"enter the num\"))\n",
    "sum = 0 \n",
    "i = 0\n",
    "while i<=a:\n",
    "    sum+=i\n",
    "    i+=1\n",
    "print(f\"the sum of number is {sum} \")"
   ]
  },
  {
   "cell_type": "code",
   "execution_count": 29,
   "id": "71ac0f89",
   "metadata": {},
   "outputs": [
    {
     "name": "stdout",
     "output_type": "stream",
     "text": [
      "15\n"
     ]
    }
   ],
   "source": [
    "a = int(input ( \" enter the value\"))\n",
    "sum =  0 \n",
    "while a > 0 : \n",
    "    digit = a % 10 \n",
    "    sum += digit \n",
    "    a = a //10\n",
    "print (sum)"
   ]
  },
  {
   "cell_type": "code",
   "execution_count": 30,
   "id": "7e170355",
   "metadata": {},
   "outputs": [
    {
     "name": "stdout",
     "output_type": "stream",
     "text": [
      "the number is prime\n"
     ]
    }
   ],
   "source": [
    "num = int (input(\"enter the number \"))\n",
    "is_prime = True \n",
    "if num <= 1 :\n",
    "    is_prime = False\n",
    "else : \n",
    "    for i in range(2,num):\n",
    "        if num % i == 0 :\n",
    "            is_prime= False \n",
    "            break\n",
    "if is_prime:\n",
    "    print(\"the number is prime\")\n",
    "else :\n",
    "    print(\"the number is not prime\") "
   ]
  },
  {
   "cell_type": "code",
   "execution_count": 31,
   "id": "0c4f7d31",
   "metadata": {},
   "outputs": [
    {
     "name": "stdout",
     "output_type": "stream",
     "text": [
      "0\n",
      "1\n",
      "1\n",
      "2\n",
      "3\n",
      "5\n",
      "8\n",
      "13\n",
      "21\n",
      "34\n"
     ]
    }
   ],
   "source": [
    "n= int (input(\"enter the number\"))\n",
    "a,b = 0 , 1 \n",
    "count = 0 \n",
    "\n",
    "while count < n:\n",
    "    print (a)\n",
    "    a, b  = b, a+b\n",
    "    count +=1"
   ]
  },
  {
   "cell_type": "code",
   "execution_count": 42,
   "id": "f7af0fb3",
   "metadata": {},
   "outputs": [
    {
     "name": "stdout",
     "output_type": "stream",
     "text": [
      "1232\n",
      "bmw\n",
      "engine started\n"
     ]
    }
   ],
   "source": [
    "class Car :\n",
    "    def __init__(self, make , model, year):\n",
    "        self.make = make\n",
    "        self.model = model\n",
    "        self.year =  year \n",
    "    def start_engine(self):\n",
    "        print(\"engine started\")\n",
    "\n",
    "\n",
    "bmw = Car(1232,\"bmw\",2020)\n",
    "print(bmw.make)\n",
    "print(bmw.model)\n",
    "bmw.start_engine()"
   ]
  },
  {
   "cell_type": "code",
   "execution_count": 45,
   "id": "b2c503ac",
   "metadata": {},
   "outputs": [],
   "source": [
    "class Student:\n",
    "    def __init__(self, name, age):\n",
    "        self.name = name\n",
    "        self.age = age"
   ]
  },
  {
   "cell_type": "code",
   "execution_count": 50,
   "id": "dac0c9c8",
   "metadata": {},
   "outputs": [
    {
     "name": "stdout",
     "output_type": "stream",
     "text": [
      "500\n",
      "amount diposited\n",
      "600\n",
      "the balance witdrawn\n",
      "400\n"
     ]
    }
   ],
   "source": [
    "class BankAccount:\n",
    "    def __init__(self,account_number,balance):\n",
    "         self.__account_number = account_number\n",
    "         self.__balance = balance\n",
    "    \n",
    "    def deposit(self,dip):\n",
    "         self.__balance += dip\n",
    "         print (\"amount diposited\")\n",
    "    def withdraw(self , withdraw):\n",
    "         self.__balance -= withdraw\n",
    "         print (\"the balance witdrawn\")\n",
    "    def checkbal(self): \n",
    "         return print (self.__balance)\n",
    "\n",
    "\n",
    "bank = BankAccount(\"1234\", 500)\n",
    "bank.checkbal()\n",
    "bank.deposit(100)\n",
    "bank.checkbal()\n",
    "bank.withdraw(200)\n",
    "bank.checkbal()"
   ]
  },
  {
   "cell_type": "code",
   "execution_count": 61,
   "id": "eae20e1a",
   "metadata": {},
   "outputs": [
    {
     "name": "stdout",
     "output_type": "stream",
     "text": [
      "azam\n",
      "18\n",
      "2345\n"
     ]
    }
   ],
   "source": [
    "class Person : \n",
    "    def __init__(self,name,age):\n",
    "        self.name = name \n",
    "        self.age = age \n",
    "    \n",
    "class Employee(Person):\n",
    "    def __init__(self, name ,age , employ_id):\n",
    "        super().__init__(name , age)\n",
    "        self.employ_id=employ_id\n",
    "\n",
    "emp2 = Employee(\"azam\",18,2345)\n",
    "\n",
    "print(emp2.name)\n",
    "print(emp2.age)\n",
    "print(emp2.employ_id)"
   ]
  },
  {
   "cell_type": "code",
   "execution_count": 62,
   "id": "22cb0b92",
   "metadata": {},
   "outputs": [
    {
     "name": "stdout",
     "output_type": "stream",
     "text": [
      "the student name azam and age 18 \n"
     ]
    }
   ],
   "source": [
    "###polymorphism \n",
    "\n",
    "class Person : \n",
    "    def __init__(self,name,age):\n",
    "        self.name = name \n",
    "        self.age = age \n",
    "    def __str__(self):\n",
    "         return f\"the student name {self.name} and age {self.age} \"\n",
    "    \n",
    "class Employee(Person):\n",
    "    def __init__(self, name ,age , employ_id):\n",
    "        super().__init__(name , age)\n",
    "        self.employ_id=employ_id\n",
    "\n",
    "emp2 = Employee(\"azam\",18,2345)\n",
    "\n",
    "print(emp2)\n"
   ]
  },
  {
   "cell_type": "code",
   "execution_count": 68,
   "id": "a0a828ca",
   "metadata": {},
   "outputs": [
    {
     "data": {
      "text/plain": [
       "'bidar'"
      ]
     },
     "execution_count": 68,
     "metadata": {},
     "output_type": "execute_result"
    }
   ],
   "source": [
    "class Adress :\n",
    "    def __init__(self, street, city, zipcode):\n",
    "        self.street = street \n",
    "        self.city  = city \n",
    "        self. zipcode = zipcode\n",
    "class  Person() : \n",
    "    def __init__(self, name, age, adress):\n",
    "         self.name = name \n",
    "         self.age  = age \n",
    "         self.adress = adress\n",
    "add = Adress(\"haqcolony\",\"bidar\",585403)  \n",
    "p1  = Person(\"azam\",16,add)\n",
    "p1.adress.city\n"
   ]
  },
  {
   "cell_type": "code",
   "execution_count": 71,
   "id": "2e064704",
   "metadata": {},
   "outputs": [
    {
     "name": "stdout",
     "output_type": "stream",
     "text": [
      "1\n"
     ]
    }
   ],
   "source": [
    "class Counter : \n",
    "    count = 0\n",
    "\n",
    "    def __init__(self):\n",
    "        Counter.count+=1\n",
    "    @classmethod\n",
    "    def get_count(cls):\n",
    "        return cls.count\n",
    "\n",
    "c = Counter()\n",
    "\n",
    "print(c.get_count())"
   ]
  },
  {
   "cell_type": "code",
   "execution_count": null,
   "id": "e8da53d9",
   "metadata": {},
   "outputs": [
    {
     "name": "stdout",
     "output_type": "stream",
     "text": [
      "2.23606797749979\n"
     ]
    }
   ],
   "source": [
    "import math \n",
    "\n",
    "class mathoperation : \n",
    "    @staticmethod\n",
    "    def sqrt(x):\n",
    "        return math.sqrt(x)\n"
   ]
  }
 ],
 "metadata": {
  "kernelspec": {
   "display_name": "Python 3",
   "language": "python",
   "name": "python3"
  },
  "language_info": {
   "codemirror_mode": {
    "name": "ipython",
    "version": 3
   },
   "file_extension": ".py",
   "mimetype": "text/x-python",
   "name": "python",
   "nbconvert_exporter": "python",
   "pygments_lexer": "ipython3",
   "version": "3.12.4"
  }
 },
 "nbformat": 4,
 "nbformat_minor": 5
}
