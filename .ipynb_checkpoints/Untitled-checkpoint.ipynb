{
 "cells": [
  {
   "cell_type": "code",
   "execution_count": 12,
   "id": "73b79852-3775-4c48-a47f-55e441448fad",
   "metadata": {},
   "outputs": [
    {
     "ename": "TypeError",
     "evalue": "unsupported operand type(s) for -: 'list' and 'float'",
     "output_type": "error",
     "traceback": [
      "\u001b[1;31m---------------------------------------------------------------------------\u001b[0m",
      "\u001b[1;31mTypeError\u001b[0m                                 Traceback (most recent call last)",
      "Cell \u001b[1;32mIn[12], line 13\u001b[0m\n\u001b[0;32m     11\u001b[0m          t \u001b[38;5;241m=\u001b[39m m\u001b[38;5;241m*\u001b[39mx[i]\u001b[38;5;241m+\u001b[39mc\n\u001b[0;32m     12\u001b[0m          y1\u001b[38;5;241m.\u001b[39mappend(t)\n\u001b[1;32m---> 13\u001b[0m          er \u001b[38;5;241m=\u001b[39m \u001b[43my\u001b[49m\u001b[38;5;241;43m-\u001b[39;49m\u001b[43mt\u001b[49m\n\u001b[0;32m     14\u001b[0m          error\u001b[38;5;241m.\u001b[39mappend(er)\n\u001b[0;32m     16\u001b[0m plt\u001b[38;5;241m.\u001b[39mplot(x, y, label\u001b[38;5;241m=\u001b[39m\u001b[38;5;124m\"\u001b[39m\u001b[38;5;124mActual\u001b[39m\u001b[38;5;124m\"\u001b[39m, marker\u001b[38;5;241m=\u001b[39m\u001b[38;5;124m'\u001b[39m\u001b[38;5;124mo\u001b[39m\u001b[38;5;124m'\u001b[39m)\n",
      "\u001b[1;31mTypeError\u001b[0m: unsupported operand type(s) for -: 'list' and 'float'"
     ]
    }
   ],
   "source": [
    "import numpy as np \n",
    "import matplotlib.pyplot as plt \n",
    "\n",
    "x = [1, 2, 3, 4, 5]\n",
    "y = [3, 6, 9, 12, 15]\n",
    "m=1.5\n",
    "c=1\n",
    "y1=[]\n",
    "error = []\n",
    "for i  in range(len(x)):\n",
    "         t = m*x[i]+c\n",
    "         y1.append(t)\n",
    "         er = y[i]-t\n",
    "         error.append(er)\n",
    "\n",
    "plt.plot(x, y, label=\"Actual\", marker='o')\n",
    "plt.plot(x, y1, label=\"Predicted\", linestyle='--')\n",
    "plt.plot(x, error, label=\"error line\")\n",
    "plt.title(\"Actual vs Predicted\")\n",
    "plt.xlabel(\"x\")\n",
    "plt.ylabel(\"y\")\n",
    "plt.legend()\n",
    "plt.grid(True)\n",
    "plt.show()\n"
   ]
  },
  {
   "cell_type": "code",
   "execution_count": null,
   "id": "295b3cf8-ce61-4c6c-8af3-2eb078ac4a65",
   "metadata": {},
   "outputs": [],
   "source": []
  }
 ],
 "metadata": {
  "kernelspec": {
   "display_name": "Python 3 (ipykernel)",
   "language": "python",
   "name": "python3"
  },
  "language_info": {
   "codemirror_mode": {
    "name": "ipython",
    "version": 3
   },
   "file_extension": ".py",
   "mimetype": "text/x-python",
   "name": "python",
   "nbconvert_exporter": "python",
   "pygments_lexer": "ipython3",
   "version": "3.12.4"
  }
 },
 "nbformat": 4,
 "nbformat_minor": 5
}
